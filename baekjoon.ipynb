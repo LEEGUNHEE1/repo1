{
  "nbformat": 4,
  "nbformat_minor": 0,
  "metadata": {
    "colab": {
      "name": "baekjoon",
      "private_outputs": true,
      "provenance": [],
      "collapsed_sections": [],
      "mount_file_id": "1HVw-ZK6UcRPUJAxLS6JQDE_-bbnE91Di",
      "authorship_tag": "ABX9TyOOYSdrsLsZiRh+QDVlT8Am",
      "include_colab_link": true
    },
    "kernelspec": {
      "name": "python3",
      "display_name": "Python 3"
    },
    "language_info": {
      "name": "python"
    }
  },
  "cells": [
    {
      "cell_type": "markdown",
      "metadata": {
        "id": "view-in-github",
        "colab_type": "text"
      },
      "source": [
        "<a href=\"https://colab.research.google.com/github/LEEGUNHEE1/repo1/blob/main/baekjoon.ipynb\" target=\"_parent\"><img src=\"https://colab.research.google.com/assets/colab-badge.svg\" alt=\"Open In Colab\"/></a>"
      ]
    },
    {
      "cell_type": "code",
      "metadata": {
        "id": "beJMEUwyIGW3"
      },
      "source": [
        "print(\"강한친구 대한육군\\n강한친구 대한육군\")"
      ],
      "execution_count": null,
      "outputs": []
    },
    {
      "cell_type": "code",
      "metadata": {
        "id": "n0N3GD63Jq1e"
      },
      "source": [
        "print(\"\"\"\\\\    /\\\\\n",
        " )  ( \\')\n",
        "(  /  )\n",
        " \\\\(__)|\"\"\")"
      ],
      "execution_count": null,
      "outputs": []
    },
    {
      "cell_type": "code",
      "metadata": {
        "id": "SqZNzWC7Wa2B"
      },
      "source": [
        "print(\"\"\"|\\\\_/|\n",
        "|q p|   /}\n",
        "( 0 )\\\"\\\"\\\"\\\\\n",
        "|\\\"^\\\"`   |\n",
        "||_/=\\\\\\\\__|\"\"\")"
      ],
      "execution_count": null,
      "outputs": []
    },
    {
      "cell_type": "code",
      "metadata": {
        "id": "iABZYntSXVKa"
      },
      "source": [
        "a, b = map(int, input().split())\n",
        "print(a+b)"
      ],
      "execution_count": null,
      "outputs": []
    },
    {
      "cell_type": "code",
      "metadata": {
        "id": "Q1pK8LtQYZyS"
      },
      "source": [
        "a,b=input().split()\n",
        "a=int(a)\n",
        "b=int(b)\n",
        "\n",
        "print(a+b)\n",
        "print(a-b)\n",
        "print(a*b)\n",
        "print(a//b)\n",
        "print(a%b)3"
      ],
      "execution_count": null,
      "outputs": []
    },
    {
      "cell_type": "code",
      "metadata": {
        "id": "z6KJyTkUmmRY"
      },
      "source": [
        "A, B, C = map(int, input().split())\n",
        "print((A+B)%C)\n",
        "print(((A%C) + (B%C))%C)\n",
        "print((A*B)%C)\n",
        "print(((A%C) * (B%C))%C)"
      ],
      "execution_count": null,
      "outputs": []
    },
    {
      "cell_type": "code",
      "metadata": {
        "id": "utij1sF9n2Uy"
      },
      "source": [
        "a= int(input())\n",
        "b=input()\n",
        "print(a*int(b[2]))\n",
        "print(a*int(b[1]))\n",
        "print(a*int(b[0]))\n",
        "print(a*int(b))\n"
      ],
      "execution_count": null,
      "outputs": []
    },
    {
      "cell_type": "code",
      "metadata": {
        "id": "eNh-8MwCtwOl"
      },
      "source": [
        "a,b=map(int,input().split())\n",
        "if a > b :\n",
        "    print(\">\")\n",
        "elif a < b:\n",
        "    print(\"<\")\n",
        "else :\n",
        "    print(\"==\")\n"
      ],
      "execution_count": null,
      "outputs": []
    },
    {
      "cell_type": "code",
      "metadata": {
        "id": "qyaxFLm20iS1"
      },
      "source": [
        "a = int(input())\n",
        "if a >= 90:\n",
        "    print(\"A\")\n",
        "elif a>=80:\n",
        "    print(\"B\")\n",
        "elif a>=70:\n",
        "    print(\"C\")\n",
        "elif a>=60:\n",
        "    print(\"D\")\n",
        "else:\n",
        "    print(\"F\")"
      ],
      "execution_count": null,
      "outputs": []
    },
    {
      "cell_type": "code",
      "metadata": {
        "id": "nDBK9NZT19qC"
      },
      "source": [
        "a = int(input())\n",
        "if a %4==0 and a%100 !=0:\n",
        "    print(1)\n",
        "elif a%4==0 and a%400 == 0:\n",
        "    print(1)\n",
        "else :\n",
        "    print(0)"
      ],
      "execution_count": null,
      "outputs": []
    },
    {
      "cell_type": "code",
      "metadata": {
        "id": "ZPyHKefn5YOu"
      },
      "source": [
        ""
      ],
      "execution_count": null,
      "outputs": []
    }
  ]
}